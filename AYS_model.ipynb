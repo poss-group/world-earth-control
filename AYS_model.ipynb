{
  "nbformat": 4,
  "nbformat_minor": 0,
  "metadata": {
    "colab": {
      "name": "AYS model.ipynb",
      "provenance": []
    },
    "kernelspec": {
      "name": "python3",
      "display_name": "Python 3"
    }
  },
  "cells": [
    {
      "cell_type": "code",
      "metadata": {
        "id": "5Ozh6Yz8O4TD"
      },
      "source": [
        "import numpy as np\n",
        "import pandas as pd\n",
        "import matplotlib.pyplot as plt\n",
        "import pickle"
      ],
      "execution_count": 1,
      "outputs": []
    },
    {
      "cell_type": "code",
      "metadata": {
        "id": "-ikHqCpfPSJm"
      },
      "source": [
        "data = pd.read_pickle(r'/content/drive/My Drive/dg-et-both.out')"
      ],
      "execution_count": 2,
      "outputs": []
    },
    {
      "cell_type": "code",
      "metadata": {
        "id": "DiH-hHV5P2th"
      },
      "source": [
        "points  = list(data[1].values())"
      ],
      "execution_count": 3,
      "outputs": []
    },
    {
      "cell_type": "code",
      "metadata": {
        "id": "0BnIZg9q_aP3"
      },
      "source": [
        "X = list(points[0])\n",
        "a = [i[0] for i in X]\n",
        "y = [i[1] for i in X]\n",
        "s = [i[2] for i in X]\n",
        "genre = list(points[1])"
      ],
      "execution_count": 4,
      "outputs": []
    },
    {
      "cell_type": "code",
      "metadata": {
        "id": "_cLkTaAnNK8P",
        "outputId": "7e97d876-c2a9-4090-9cf4-08d16275a9b3",
        "colab": {
          "base_uri": "https://localhost:8080/",
          "height": 402
        }
      },
      "source": [
        "space = pd.DataFrame(a, columns=['a'])\n",
        "space['y'] = y\n",
        "space['s'] = s\n",
        "space['color'] = genre\n",
        "space"
      ],
      "execution_count": 5,
      "outputs": [
        {
          "output_type": "execute_result",
          "data": {
            "text/html": [
              "<div>\n",
              "<style scoped>\n",
              "    .dataframe tbody tr th:only-of-type {\n",
              "        vertical-align: middle;\n",
              "    }\n",
              "\n",
              "    .dataframe tbody tr th {\n",
              "        vertical-align: top;\n",
              "    }\n",
              "\n",
              "    .dataframe thead th {\n",
              "        text-align: right;\n",
              "    }\n",
              "</style>\n",
              "<table border=\"1\" class=\"dataframe\">\n",
              "  <thead>\n",
              "    <tr style=\"text-align: right;\">\n",
              "      <th></th>\n",
              "      <th>a</th>\n",
              "      <th>y</th>\n",
              "      <th>s</th>\n",
              "      <th>color</th>\n",
              "    </tr>\n",
              "  </thead>\n",
              "  <tbody>\n",
              "    <tr>\n",
              "      <th>0</th>\n",
              "      <td>0.001</td>\n",
              "      <td>0.001</td>\n",
              "      <td>0.000000</td>\n",
              "      <td>8</td>\n",
              "    </tr>\n",
              "    <tr>\n",
              "      <th>1</th>\n",
              "      <td>0.001</td>\n",
              "      <td>0.001</td>\n",
              "      <td>0.005025</td>\n",
              "      <td>8</td>\n",
              "    </tr>\n",
              "    <tr>\n",
              "      <th>2</th>\n",
              "      <td>0.001</td>\n",
              "      <td>0.001</td>\n",
              "      <td>0.010050</td>\n",
              "      <td>8</td>\n",
              "    </tr>\n",
              "    <tr>\n",
              "      <th>3</th>\n",
              "      <td>0.001</td>\n",
              "      <td>0.001</td>\n",
              "      <td>0.015075</td>\n",
              "      <td>8</td>\n",
              "    </tr>\n",
              "    <tr>\n",
              "      <th>4</th>\n",
              "      <td>0.001</td>\n",
              "      <td>0.001</td>\n",
              "      <td>0.020101</td>\n",
              "      <td>8</td>\n",
              "    </tr>\n",
              "    <tr>\n",
              "      <th>...</th>\n",
              "      <td>...</td>\n",
              "      <td>...</td>\n",
              "      <td>...</td>\n",
              "      <td>...</td>\n",
              "    </tr>\n",
              "    <tr>\n",
              "      <th>7999995</th>\n",
              "      <td>0.999</td>\n",
              "      <td>0.999</td>\n",
              "      <td>0.979899</td>\n",
              "      <td>13</td>\n",
              "    </tr>\n",
              "    <tr>\n",
              "      <th>7999996</th>\n",
              "      <td>0.999</td>\n",
              "      <td>0.999</td>\n",
              "      <td>0.984925</td>\n",
              "      <td>13</td>\n",
              "    </tr>\n",
              "    <tr>\n",
              "      <th>7999997</th>\n",
              "      <td>0.999</td>\n",
              "      <td>0.999</td>\n",
              "      <td>0.989950</td>\n",
              "      <td>13</td>\n",
              "    </tr>\n",
              "    <tr>\n",
              "      <th>7999998</th>\n",
              "      <td>0.999</td>\n",
              "      <td>0.999</td>\n",
              "      <td>0.994975</td>\n",
              "      <td>13</td>\n",
              "    </tr>\n",
              "    <tr>\n",
              "      <th>7999999</th>\n",
              "      <td>0.999</td>\n",
              "      <td>0.999</td>\n",
              "      <td>1.000000</td>\n",
              "      <td>13</td>\n",
              "    </tr>\n",
              "  </tbody>\n",
              "</table>\n",
              "<p>8000000 rows × 4 columns</p>\n",
              "</div>"
            ],
            "text/plain": [
              "             a      y         s  color\n",
              "0        0.001  0.001  0.000000      8\n",
              "1        0.001  0.001  0.005025      8\n",
              "2        0.001  0.001  0.010050      8\n",
              "3        0.001  0.001  0.015075      8\n",
              "4        0.001  0.001  0.020101      8\n",
              "...        ...    ...       ...    ...\n",
              "7999995  0.999  0.999  0.979899     13\n",
              "7999996  0.999  0.999  0.984925     13\n",
              "7999997  0.999  0.999  0.989950     13\n",
              "7999998  0.999  0.999  0.994975     13\n",
              "7999999  0.999  0.999  1.000000     13\n",
              "\n",
              "[8000000 rows x 4 columns]"
            ]
          },
          "metadata": {
            "tags": []
          },
          "execution_count": 5
        }
      ]
    },
    {
      "cell_type": "code",
      "metadata": {
        "id": "G1G-jWcmlNpe",
        "outputId": "7922ecad-be11-406e-9169-faaff623362c",
        "colab": {
          "base_uri": "https://localhost:8080/",
          "height": 402
        }
      },
      "source": [
        "mask1 = space['color'] == 1 ### 1 is Shelter and 6 is Backwater\n",
        "shelter = space[mask1]\n",
        "shelter = shelter.drop(columns = ['color'])\n",
        "shelter = shelter.reset_index(drop = True)\n",
        "a_shelter = list(shelter['a'])\n",
        "y_shelter = list(shelter['y'])\n",
        "s_shelter = list(shelter['s'])\n",
        "shelter"
      ],
      "execution_count": 11,
      "outputs": [
        {
          "output_type": "execute_result",
          "data": {
            "text/html": [
              "<div>\n",
              "<style scoped>\n",
              "    .dataframe tbody tr th:only-of-type {\n",
              "        vertical-align: middle;\n",
              "    }\n",
              "\n",
              "    .dataframe tbody tr th {\n",
              "        vertical-align: top;\n",
              "    }\n",
              "\n",
              "    .dataframe thead th {\n",
              "        text-align: right;\n",
              "    }\n",
              "</style>\n",
              "<table border=\"1\" class=\"dataframe\">\n",
              "  <thead>\n",
              "    <tr style=\"text-align: right;\">\n",
              "      <th></th>\n",
              "      <th>a</th>\n",
              "      <th>y</th>\n",
              "      <th>s</th>\n",
              "    </tr>\n",
              "  </thead>\n",
              "  <tbody>\n",
              "    <tr>\n",
              "      <th>0</th>\n",
              "      <td>0.001000</td>\n",
              "      <td>0.367101</td>\n",
              "      <td>0.683417</td>\n",
              "    </tr>\n",
              "    <tr>\n",
              "      <th>1</th>\n",
              "      <td>0.001000</td>\n",
              "      <td>0.367101</td>\n",
              "      <td>0.688442</td>\n",
              "    </tr>\n",
              "    <tr>\n",
              "      <th>2</th>\n",
              "      <td>0.001000</td>\n",
              "      <td>0.367101</td>\n",
              "      <td>0.693467</td>\n",
              "    </tr>\n",
              "    <tr>\n",
              "      <th>3</th>\n",
              "      <td>0.001000</td>\n",
              "      <td>0.367101</td>\n",
              "      <td>0.698492</td>\n",
              "    </tr>\n",
              "    <tr>\n",
              "      <th>4</th>\n",
              "      <td>0.001000</td>\n",
              "      <td>0.367101</td>\n",
              "      <td>0.703518</td>\n",
              "    </tr>\n",
              "    <tr>\n",
              "      <th>...</th>\n",
              "      <td>...</td>\n",
              "      <td>...</td>\n",
              "      <td>...</td>\n",
              "    </tr>\n",
              "    <tr>\n",
              "      <th>874682</th>\n",
              "      <td>0.582749</td>\n",
              "      <td>0.999000</td>\n",
              "      <td>0.984925</td>\n",
              "    </tr>\n",
              "    <tr>\n",
              "      <th>874683</th>\n",
              "      <td>0.582749</td>\n",
              "      <td>0.999000</td>\n",
              "      <td>0.989950</td>\n",
              "    </tr>\n",
              "    <tr>\n",
              "      <th>874684</th>\n",
              "      <td>0.582749</td>\n",
              "      <td>0.999000</td>\n",
              "      <td>0.994975</td>\n",
              "    </tr>\n",
              "    <tr>\n",
              "      <th>874685</th>\n",
              "      <td>0.582749</td>\n",
              "      <td>0.999000</td>\n",
              "      <td>1.000000</td>\n",
              "    </tr>\n",
              "    <tr>\n",
              "      <th>874686</th>\n",
              "      <td>0.587764</td>\n",
              "      <td>0.999000</td>\n",
              "      <td>1.000000</td>\n",
              "    </tr>\n",
              "  </tbody>\n",
              "</table>\n",
              "<p>874687 rows × 3 columns</p>\n",
              "</div>"
            ],
            "text/plain": [
              "               a         y         s\n",
              "0       0.001000  0.367101  0.683417\n",
              "1       0.001000  0.367101  0.688442\n",
              "2       0.001000  0.367101  0.693467\n",
              "3       0.001000  0.367101  0.698492\n",
              "4       0.001000  0.367101  0.703518\n",
              "...          ...       ...       ...\n",
              "874682  0.582749  0.999000  0.984925\n",
              "874683  0.582749  0.999000  0.989950\n",
              "874684  0.582749  0.999000  0.994975\n",
              "874685  0.582749  0.999000  1.000000\n",
              "874686  0.587764  0.999000  1.000000\n",
              "\n",
              "[874687 rows x 3 columns]"
            ]
          },
          "metadata": {
            "tags": []
          },
          "execution_count": 11
        }
      ]
    },
    {
      "cell_type": "code",
      "metadata": {
        "id": "t9r-hx5LFU0L"
      },
      "source": [
        "def plane_cost(volume ):\n",
        "  A = np.array(list(volume['a']))\n",
        "  Y = np.array(list(volume['y']))\n",
        "  S = np.array(list(volume['s']))\n",
        "  top = max(S)\n",
        "  bottom = min(S)\n",
        "  left = min(Y)\n",
        "  right = max(Y)\n",
        "  front = max(A)\n",
        "  back = min(A)\n",
        "  cost = np.zeros(6)\n",
        "  crop = []\n",
        "  ###########upper plane##########\n",
        "  top_plane = np.where(S >= top)[0]\n",
        "  cost[0] = len(top_plane)\n",
        "  crop.append(top_plane)\n",
        "  ###########bottom plane###########\n",
        "  bottom_plane = np.where(S <= bottom)[0]\n",
        "  cost[1] = len(bottom_plane)\n",
        "  crop.append(bottom_plane)\n",
        "  ##########left plane###########\n",
        "  left_plane = np.where(Y <= left)[0]\n",
        "  cost[2] = len(left_plane)\n",
        "  crop.append(left_plane)\n",
        "  #########right plane##########\n",
        "  right_plane = np.where(Y >= right)[0]\n",
        "  cost[3] = len(right_plane)\n",
        "  crop.append(right_plane)\n",
        "  ##########front plane############\n",
        "  front_plane = np.where(A >= front)[0]\n",
        "  cost[4] = len(front_plane)\n",
        "  crop.append(front_plane)\n",
        "  ###########back plane###########\n",
        "  back_plane = np.where(A <= back)[0]\n",
        "  cost[5] = len(back_plane)\n",
        "  crop.append(back_plane) \n",
        "  ##########################################\n",
        "  drop_indexes = crop[np.argmin(cost)]\n",
        "  volume = volume.drop(index = drop_indexes)\n",
        "  volume = volume.reset_index(drop = True)\n",
        "  V = int((top - bottom) * (right - left) * (front - back) / (0.005)**3)\n",
        "  number_of_points = len(list(volume['a']))\n",
        "  if V - number_of_points <= 0 :\n",
        "    enough = 1\n",
        "  else:\n",
        "    enough = 0\n",
        "\n",
        "\n",
        "  return volume , enough"
      ],
      "execution_count": 7,
      "outputs": []
    },
    {
      "cell_type": "code",
      "metadata": {
        "id": "vdC_nR6mbQjJ"
      },
      "source": [
        "box = shelter\n",
        "counter = 0\n",
        "finalized = 0\n",
        "while (finalized == 0):\n",
        "  print(counter)\n",
        "  counter += 1\n",
        "  box , finalized = plane_cost(box)\n"
      ],
      "execution_count": null,
      "outputs": []
    },
    {
      "cell_type": "code",
      "metadata": {
        "id": "2x4CijDkBk3X"
      },
      "source": [
        "## MAking the points of volume of the box boundaries\n",
        "a_box = list(box ['a'])\n",
        "y_box = list(box['y'])\n",
        "s_box = list(box['s'])\n",
        "Xul = max(a_box) ## a upper limit\n",
        "Xll = min(a_box) ## a lower limit\n",
        "Yul = max(y_box) ## y upper limit\n",
        "Yll = min(y_box) ## y lower limit\n",
        "Zul = max(s_box)    ## s upper limit\n",
        "Zll = min(s_box)   ## s lower limit\n",
        "N = 100\n",
        "box_X = np.arange(Xll , Xul,(Xul - Xll)/N)\n",
        "box_Y = np.arange(Yll , Yul,(Yul - Yll)/N)\n",
        "box_Z = np.arange(Zll , Zul,(Zul - Zll)/N)\n",
        "xx = []\n",
        "yy = []\n",
        "zz = []\n",
        "for x in box_X:\n",
        "  for y in box_Y:\n",
        "    for z in box_Z:\n",
        "      xx.append(x)\n",
        "      yy.append(y)\n",
        "      zz.append(z)"
      ],
      "execution_count": 9,
      "outputs": []
    },
    {
      "cell_type": "code",
      "metadata": {
        "id": "u04VsjM9uPUD",
        "outputId": "939f53a7-0fad-42ec-d8aa-85f163137776",
        "colab": {
          "base_uri": "https://localhost:8080/",
          "height": 266
        }
      },
      "source": [
        "# ax = plt.axes(projection='3d', alpha = 0.5)\n",
        "fig = plt.figure(figsize=plt.figaspect(0.5))\n",
        "ax = fig.add_subplot(1, 2, 1, projection='3d')\n",
        "ax.scatter(y_shelter ,a_shelter,s_shelter , c = 'lightblue')\n",
        "ax.set_xlim(0, 1)\n",
        "ax.set_ylim(0, 1)\n",
        "ax.set_zlim(0, 1)\n",
        "ax.set_title('Shelter')\n",
        "ax.set_xlabel('Y')\n",
        "ax.set_ylabel('A')\n",
        "ax.set_zlabel('S')\n",
        "\n",
        "ax = fig.add_subplot(1, 2, 2, projection='3d')\n",
        "ax.scatter(yy ,xx,zz , c = 'orange' , alpha = 0.5)\n",
        "ax.set_xlim(0, 1)\n",
        "ax.set_ylim(0, 1)\n",
        "ax.set_zlim(0, 1)\n",
        "ax.set_title('Box')\n",
        "ax.set_xlabel('Y')\n",
        "ax.set_ylabel('A')\n",
        "ax.set_zlabel('S')\n",
        "# ax.text(str(Xll)'< a <')"
      ],
      "execution_count": 12,
      "outputs": [
        {
          "output_type": "execute_result",
          "data": {
            "text/plain": [
              "Text(0.5, 0, 'S')"
            ]
          },
          "metadata": {
            "tags": []
          },
          "execution_count": 12
        },
        {
          "output_type": "display_data",
          "data": {
            "image/png": "[encoded data removed]",
            "text/plain": [
              "<Figure size 576x288 with 2 Axes>"
            ]
          },
          "metadata": {
            "tags": [],
            "needs_background": "light"
          }
        }
      ]
    },
    {
      "cell_type": "code",
      "metadata": {
        "id": "Tua8y1v2wiji",
        "outputId": "13518e36-b4b0-4d4e-8faf-4ccb4e352911",
        "colab": {
          "base_uri": "https://localhost:8080/",
          "height": 70
        }
      },
      "source": [
        "###box boundaries\n",
        "print( round(Xll,4) , '< a <', round(Xul,4))\n",
        "print( round(Yll,4) , '< y <', round(Yul,4))\n",
        "print( round(Zll,4) , '< s <', round(Zul,4))"
      ],
      "execution_count": 121,
      "outputs": [
        {
          "output_type": "stream",
          "text": [
            "0.001 < a < 0.4273\n",
            "0.3671 < y < 0.8134\n",
            "0.6834 < s < 1.0\n"
          ],
          "name": "stdout"
        }
      ]
    },
    {
      "cell_type": "code",
      "metadata": {
        "id": "U1iboum20s70"
      },
      "source": [
        ""
      ],
      "execution_count": null,
      "outputs": []
    }
  ]
}